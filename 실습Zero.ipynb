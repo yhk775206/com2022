{
  "cells": [
    {
      "cell_type": "markdown",
      "metadata": {
        "id": "view-in-github",
        "colab_type": "text"
      },
      "source": [
        "<a href=\"https://colab.research.google.com/github/yhk775206/com2022/blob/main/%EC%8B%A4%EC%8A%B5Zero.ipynb\" target=\"_parent\"><img src=\"https://colab.research.google.com/assets/colab-badge.svg\" alt=\"Open In Colab\"/></a>"
      ]
    },
    {
      "cell_type": "markdown",
      "metadata": {
        "id": "33a9rzsg9bS5"
      },
      "source": [
        "# 1. 파이썬 기초(Optional)\n",
        "### 라이브러리(패키지) 로드"
      ]
    },
    {
      "cell_type": "code",
      "execution_count": 1,
      "metadata": {
        "id": "MOM6kRkM9bS8"
      },
      "outputs": [],
      "source": [
        "import numpy as np"
      ]
    },
    {
      "cell_type": "markdown",
      "metadata": {
        "id": "8qWaTbq59bS9"
      },
      "source": [
        "### 프린트"
      ]
    },
    {
      "cell_type": "code",
      "execution_count": 2,
      "metadata": {
        "colab": {
          "base_uri": "https://localhost:8080/"
        },
        "id": "Q-hv1dtp9bS-",
        "outputId": "c3e2cca5-bbca-4025-92e3-397a1691135c"
      },
      "outputs": [
        {
          "output_type": "stream",
          "name": "stdout",
          "text": [
            "Hello, world\n",
            "정수: 3, 03, 003, 0003, 00003\n",
            "실수: 256, 256.1, 256.12\n",
            "문자열: [Hello, world]\n"
          ]
        }
      ],
      "source": [
        "print (\"Hello, world\")\n",
        "\n",
        "# integer\n",
        "x = 3\n",
        "print (\"정수: %01d, %02d, %03d, %04d, %05d\" \n",
        "      % (x,x,x,x,x))\n",
        "\n",
        "# float\n",
        "x = 256.123\n",
        "print (\"실수: %.0f, %.1f, %.2f\"\n",
        "      % (x,x,x))\n",
        "\n",
        "# string\n",
        "x = \"Hello, world\"\n",
        "print (\"문자열: [%s]\" % (x))"
      ]
    },
    {
      "cell_type": "markdown",
      "metadata": {
        "id": "-1hDhUs-9bS_"
      },
      "source": [
        "### 반복문, 조건문"
      ]
    },
    {
      "cell_type": "code",
      "execution_count": null,
      "metadata": {
        "id": "ZUO3HD0n9bS_",
        "outputId": "20a82e19-9684-450b-c2ec-4f401a0e961e"
      },
      "outputs": [
        {
          "name": "stdout",
          "output_type": "stream",
          "text": [
            "Regression 은(는) 기계학습 내용입니다.\n",
            "Classification 은(는) 기계학습 내용입니다.\n",
            "SVM 은(는) 기계학습 내용입니다.\n",
            "Clustering 은(는) 기계학습 내용입니다.\n",
            "Demension reduction 은(는) 기계학습 내용입니다.\n",
            "%s 은(는) 심층학습 내용입니다.\n",
            "CNN 은(는) convolutional neural network 입니다.\n",
            "%s 은(는) 심층학습 내용입니다.\n",
            "%s 은(는) 심층학습 내용입니다.\n",
            "%s 은(는) 심층학습 내용입니다.\n"
          ]
        }
      ],
      "source": [
        "contents = [\"Regression\", \"Classification\", \"SVM\", \"Clustering\", \"Demension reduction\",\n",
        "            \"NN\", \"CNN\", \"AE\", \"GAN\", \"RNN\"]\n",
        "for con in contents:\n",
        "    if con in [\"Regression\", \"Classification\", \"SVM\", \"Clustering\", \"Demension reduction\"]:\n",
        "        print (\"%s 은(는) 기계학습 내용입니다.\" %con )\n",
        "    elif con in [\"CNN\"]:\n",
        "        print (\"%s 은(는) convolutional neural network 입니다.\" %con)\n",
        "    else:\n",
        "        print (\"%s 은(는) 심층학습 내용입니다.\")"
      ]
    },
    {
      "cell_type": "markdown",
      "metadata": {
        "id": "WAfzr_Qy9bS_"
      },
      "source": [
        "### 반복문과 인덱스"
      ]
    },
    {
      "cell_type": "code",
      "execution_count": null,
      "metadata": {
        "id": "yW9Tu-oI9bS_",
        "outputId": "a179eb28-8f7b-4dd1-b9b8-8f01097cf4f8"
      },
      "outputs": [
        {
          "name": "stdout",
          "output_type": "stream",
          "text": [
            "[0/10]: Regression\n",
            "[1/10]: Classification\n",
            "[2/10]: SVM\n",
            "[3/10]: Clustering\n",
            "[4/10]: Demension reduction\n",
            "[5/10]: NN\n",
            "[6/10]: CNN\n",
            "[7/10]: AE\n",
            "[8/10]: GAN\n",
            "[9/10]: RNN\n"
          ]
        }
      ],
      "source": [
        "for (i,con) in enumerate(contents):\n",
        "    print (\"[%d/%d]: %s\" %(i, len(contents), con))"
      ]
    },
    {
      "cell_type": "markdown",
      "metadata": {
        "id": "9D0M0xp-9bTA"
      },
      "source": [
        "### 함수"
      ]
    },
    {
      "cell_type": "code",
      "execution_count": null,
      "metadata": {
        "id": "Zua28etk9bTA",
        "outputId": "3be4fd4e-92f2-4e1b-ab5f-9fbc12de1a83"
      },
      "outputs": [
        {
          "name": "stdout",
          "output_type": "stream",
          "text": [
            "10.0 + 20.0 = 30.0\n"
          ]
        }
      ],
      "source": [
        "def sum(a,b):\n",
        "    return a+b\n",
        "\n",
        "x = 10.0\n",
        "y = 20.0\n",
        "print (\"%.1f + %.1f = %.1f\" %(x, y, sum(x,y)))"
      ]
    },
    {
      "cell_type": "markdown",
      "metadata": {
        "id": "miyKl-ml9bTB"
      },
      "source": [
        "### 리스트"
      ]
    },
    {
      "cell_type": "code",
      "execution_count": null,
      "metadata": {
        "id": "hgOAHDQg9bTB",
        "outputId": "7a7c91b6-9a2f-4c50-e571-85d902fb5929"
      },
      "outputs": [
        {
          "name": "stdout",
          "output_type": "stream",
          "text": [
            "[]\n",
            "['a']\n",
            "['a', 123]\n",
            "['a', 123, ['a', 'b']]\n"
          ]
        }
      ],
      "source": [
        "a = []\n",
        "b = [1,2,3]\n",
        "c = [\"Hello\", \",\", \"world\"]\n",
        "d = [1,2,3,\"x\",\"y\",\"z\"]\n",
        "x = []\n",
        "print (x)\n",
        "\n",
        "x.append('a')\n",
        "print (x)\n",
        "\n",
        "x.append(123)\n",
        "print (x)\n",
        "\n",
        "x.append([\"a\", \"b\"])\n",
        "print x"
      ]
    },
    {
      "cell_type": "markdown",
      "metadata": {
        "id": "e99VC0129bTB"
      },
      "source": [
        "### 딕셔너리(dictionary)"
      ]
    },
    {
      "cell_type": "code",
      "execution_count": null,
      "metadata": {
        "id": "EbeD17jq9bTB",
        "outputId": "dc9e9b33-29b3-40e4-9111-979e325fc738"
      },
      "outputs": [
        {
          "name": "stdout",
          "output_type": "stream",
          "text": [
            "{'town': 'Goyang city', 'job': 'Assistant professor', 'name': 'Heekyung'}\n"
          ]
        }
      ],
      "source": [
        "dic = dict()\n",
        "dic[\"name\"] = \"Heekyung\"\n",
        "dic[\"town\"] = \"Goyang city\"\n",
        "dic[\"job\"] = \"Assistant professor\"\n",
        "print dic"
      ]
    },
    {
      "cell_type": "markdown",
      "metadata": {
        "id": "LQAZf22O9bTC"
      },
      "source": [
        "### 클래스"
      ]
    },
    {
      "cell_type": "code",
      "execution_count": null,
      "metadata": {
        "id": "nxsDMxWd9bTC",
        "outputId": "0a35e4e4-af0b-484c-abff-01dd758bce67"
      },
      "outputs": [
        {
          "name": "stdout",
          "output_type": "stream",
          "text": [
            "Heekyung 학생은 공부합니다.\n",
            "Heekyung 학생은 열심히 공부합니다.\n"
          ]
        }
      ],
      "source": [
        "class Student:\n",
        "    # 생성자\n",
        "    def __init__(self, name):\n",
        "        self.name = name\n",
        "    # 메써드\n",
        "    def study(self, hard=False):\n",
        "        if hard:\n",
        "            print \"%s 학생은 열심히 공부합니다.\" %self.name\n",
        "        else:\n",
        "            print \"%s 학생은 공부합니다.\" %self.name\n",
        "\n",
        "s = Student('Heekyung')\n",
        "s.study()\n",
        "s.study(hard=True)"
      ]
    },
    {
      "cell_type": "code",
      "execution_count": null,
      "metadata": {
        "id": "PoIh6Bn19bTC"
      },
      "outputs": [],
      "source": []
    },
    {
      "cell_type": "code",
      "execution_count": null,
      "metadata": {
        "id": "hfBfjRvW9bTC"
      },
      "outputs": [],
      "source": []
    },
    {
      "cell_type": "markdown",
      "metadata": {
        "id": "9-hKa5Vf9bTC"
      },
      "source": [
        "# 2. 벡터, 행렬 연산, 그래프 그리기\n",
        "### 프린트"
      ]
    },
    {
      "cell_type": "code",
      "execution_count": 4,
      "metadata": {
        "id": "JOdVnbqB9bTC"
      },
      "outputs": [],
      "source": [
        "def print_val(x):\n",
        "    print (\"Type:\", type(x))\n",
        "    print (\"Shape:\", x.shape)\n",
        "    print (\"값:\\n\", x)\n",
        "    print (\" \")"
      ]
    },
    {
      "cell_type": "markdown",
      "metadata": {
        "id": "NWPNfWOQ9bTC"
      },
      "source": [
        "### rank 1 np array"
      ]
    },
    {
      "cell_type": "code",
      "execution_count": 5,
      "metadata": {
        "colab": {
          "base_uri": "https://localhost:8080/"
        },
        "id": "XlzZzPjJ9bTD",
        "outputId": "97676aa4-2fdb-4c8d-ad09-9c7b1321b8b5"
      },
      "outputs": [
        {
          "output_type": "stream",
          "name": "stdout",
          "text": [
            "Type: <class 'numpy.ndarray'>\n",
            "Shape: (3,)\n",
            "값:\n",
            " [1 2 3]\n",
            " \n",
            "Type: <class 'numpy.ndarray'>\n",
            "Shape: (3,)\n",
            "값:\n",
            " [5 2 3]\n",
            " \n"
          ]
        }
      ],
      "source": [
        "x = np.array([1, 2, 3])\n",
        "print_val(x)\n",
        "\n",
        "x[0] = 5\n",
        "print_val(x)"
      ]
    },
    {
      "cell_type": "markdown",
      "metadata": {
        "id": "XTsh-n4c9bTD"
      },
      "source": [
        "### rank 2 np array"
      ]
    },
    {
      "cell_type": "code",
      "execution_count": null,
      "metadata": {
        "id": "-MPBPoI99bTD",
        "outputId": "0eb889d9-c9f0-4a86-9723-9089f4376265"
      },
      "outputs": [
        {
          "name": "stdout",
          "output_type": "stream",
          "text": [
            "Type: <type 'numpy.ndarray'>\n",
            "Shape: (2, 3)\n",
            "값:\n",
            "[[1 2 3]\n",
            " [4 5 6]]\n",
            " \n"
          ]
        }
      ],
      "source": [
        "y = np.array([[1,2,3], [4,5,6]])\n",
        "print_val(y)"
      ]
    },
    {
      "cell_type": "markdown",
      "metadata": {
        "id": "i484xm3m9bTD"
      },
      "source": [
        "### rank 2 zeros"
      ]
    },
    {
      "cell_type": "code",
      "execution_count": null,
      "metadata": {
        "scrolled": false,
        "id": "oMeEAQOA9bTD",
        "outputId": "9e010f49-00b0-4755-e08d-6502fb5e7e98"
      },
      "outputs": [
        {
          "name": "stdout",
          "output_type": "stream",
          "text": [
            "Type: <type 'numpy.ndarray'>\n",
            "Shape: (2, 2)\n",
            "값:\n",
            "[[0. 0.]\n",
            " [0. 0.]]\n",
            " \n"
          ]
        }
      ],
      "source": [
        "a = np.zeros((2,2))\n",
        "print_val(a)"
      ]
    },
    {
      "cell_type": "markdown",
      "metadata": {
        "id": "6-mOrh0y9bTD"
      },
      "source": [
        "### rank 2 ones"
      ]
    },
    {
      "cell_type": "code",
      "execution_count": null,
      "metadata": {
        "id": "59e7DeLM9bTE",
        "outputId": "c85375e6-70a0-45e4-dd1d-84f334015a70"
      },
      "outputs": [
        {
          "name": "stdout",
          "output_type": "stream",
          "text": [
            "Type: <type 'numpy.ndarray'>\n",
            "Shape: (3, 2)\n",
            "값:\n",
            "[[1. 1.]\n",
            " [1. 1.]\n",
            " [1. 1.]]\n",
            " \n"
          ]
        }
      ],
      "source": [
        "a = np.ones((3,2))\n",
        "print_val(a)"
      ]
    },
    {
      "cell_type": "markdown",
      "metadata": {
        "id": "aZF--lzL9bTE"
      },
      "source": [
        "### rank 2 단위 행렬(identity matrix)"
      ]
    },
    {
      "cell_type": "code",
      "execution_count": null,
      "metadata": {
        "id": "X5tQTaN49bTE",
        "outputId": "6cf81175-76ef-48d9-95d7-8dda2d919e88"
      },
      "outputs": [
        {
          "name": "stdout",
          "output_type": "stream",
          "text": [
            "Type: <type 'numpy.ndarray'>\n",
            "Shape: (3, 3)\n",
            "값:\n",
            "[[1. 0. 0.]\n",
            " [0. 1. 0.]\n",
            " [0. 0. 1.]]\n",
            " \n"
          ]
        }
      ],
      "source": [
        "a = np.eye(3,3)\n",
        "print_val(a)"
      ]
    },
    {
      "cell_type": "markdown",
      "metadata": {
        "id": "3FIMSL-s9bTE"
      },
      "source": [
        "### 랜덤 행렬(uniform: 0~1 사이 모든 값들이 나올 확률이 같음)"
      ]
    },
    {
      "cell_type": "code",
      "execution_count": null,
      "metadata": {
        "id": "Lbac5ABj9bTE",
        "outputId": "12da7b5c-82c6-4ff9-a1b1-9a5eaf5aa6df"
      },
      "outputs": [
        {
          "name": "stdout",
          "output_type": "stream",
          "text": [
            "Type: <type 'numpy.ndarray'>\n",
            "Shape: (4, 4)\n",
            "값:\n",
            "[[0.51188499 0.24694867 0.88542043 0.3671004 ]\n",
            " [0.56884716 0.92298505 0.17967754 0.4287874 ]\n",
            " [0.01890182 0.61939264 0.95876775 0.96522488]\n",
            " [0.88609591 0.89879732 0.39578545 0.05220255]]\n",
            " \n"
          ]
        }
      ],
      "source": [
        "a = np.random.random((4,4))\n",
        "print_val(a)"
      ]
    },
    {
      "cell_type": "markdown",
      "metadata": {
        "id": "QVJYig9o9bTE"
      },
      "source": [
        "### 랜덤 행렬(Gaussian: 0을 평균으로 하는 가우시안 분포를 따르는 랜덤값)"
      ]
    },
    {
      "cell_type": "code",
      "execution_count": null,
      "metadata": {
        "id": "1Z_oPooh9bTE"
      },
      "outputs": [],
      "source": [
        "a = np.random.randn((4,4))\n",
        "print_val(a)"
      ]
    },
    {
      "cell_type": "markdown",
      "metadata": {
        "id": "-2lu44yl9bTE"
      },
      "source": [
        "### np array indexing"
      ]
    },
    {
      "cell_type": "code",
      "execution_count": null,
      "metadata": {
        "id": "JRhIyCOe9bTE",
        "outputId": "78c27e27-116b-4d52-954f-f53d6a24bf83"
      },
      "outputs": [
        {
          "name": "stdout",
          "output_type": "stream",
          "text": [
            "Type: <type 'numpy.ndarray'>\n",
            "Shape: (3, 4)\n",
            "값:\n",
            "[[ 1  2  3  4]\n",
            " [ 5  6  7  8]\n",
            " [ 9 10 11 12]]\n",
            " \n"
          ]
        }
      ],
      "source": [
        "a = np.array([[1,2,3,4], [5,6,7,8], [9,10,11,12]])\n",
        "print_val(a)"
      ]
    },
    {
      "cell_type": "code",
      "execution_count": null,
      "metadata": {
        "id": "3bN3FWS19bTF",
        "outputId": "70726d21-8cc0-4dc1-a3e1-426aa420d0fb"
      },
      "outputs": [
        {
          "name": "stdout",
          "output_type": "stream",
          "text": [
            "Type: <type 'numpy.ndarray'>\n",
            "Shape: (2, 2)\n",
            "값:\n",
            "[[2 3]\n",
            " [6 7]]\n",
            " \n"
          ]
        }
      ],
      "source": [
        "b = a[:2, 1:3]  # 행 0~1, 열 1~2\n",
        "print_val(b)"
      ]
    },
    {
      "cell_type": "markdown",
      "metadata": {
        "id": "dkVrb4YE9bTF"
      },
      "source": [
        "### 행렬의 n번째 행 얻기"
      ]
    },
    {
      "cell_type": "code",
      "execution_count": null,
      "metadata": {
        "id": "n3xcRHYs9bTF",
        "outputId": "74f25774-a38d-431b-88cc-dbcc44904337"
      },
      "outputs": [
        {
          "name": "stdout",
          "output_type": "stream",
          "text": [
            "Type: <type 'numpy.ndarray'>\n",
            "Shape: (4,)\n",
            "값:\n",
            "[5 6 7 8]\n",
            " \n"
          ]
        }
      ],
      "source": [
        "row1 = a[1, :]  # 1번째 행\n",
        "print_val(row1)"
      ]
    },
    {
      "cell_type": "markdown",
      "metadata": {
        "id": "He7Msvyv9bTF"
      },
      "source": [
        "### 행렬의 원소별 연산"
      ]
    },
    {
      "cell_type": "code",
      "execution_count": null,
      "metadata": {
        "id": "aG4WL6E59bTF"
      },
      "outputs": [],
      "source": [
        "m1 = np.array([[1,2], [3,4]], dtype=np.float64)\n",
        "m2 = np.array([[5,6], [7,8]], dtype=np.float64)"
      ]
    },
    {
      "cell_type": "code",
      "execution_count": null,
      "metadata": {
        "id": "rHH8h5J-9bTF",
        "outputId": "9bd3de6d-e95d-4b19-80e1-36c280209c2b"
      },
      "outputs": [
        {
          "name": "stdout",
          "output_type": "stream",
          "text": [
            "Type: <type 'numpy.ndarray'>\n",
            "Shape: (2, 2)\n",
            "값:\n",
            "[[ 6.  8.]\n",
            " [10. 12.]]\n",
            " \n",
            "Type: <type 'numpy.ndarray'>\n",
            "Shape: (2, 2)\n",
            "값:\n",
            "[[ 6.  8.]\n",
            " [10. 12.]]\n",
            " \n"
          ]
        }
      ],
      "source": [
        "# elementwise sum\n",
        "print_val(m1 + m2)\n",
        "print_val(np.add(m1, m2))"
      ]
    },
    {
      "cell_type": "code",
      "execution_count": null,
      "metadata": {
        "id": "ep7_DiTH9bTF",
        "outputId": "9db0b81a-cbd7-4181-e31d-bc4f58ea47fc"
      },
      "outputs": [
        {
          "name": "stdout",
          "output_type": "stream",
          "text": [
            "Type: <type 'numpy.ndarray'>\n",
            "Shape: (2, 2)\n",
            "값:\n",
            "[[-4. -4.]\n",
            " [-4. -4.]]\n",
            " \n",
            "Type: <type 'numpy.ndarray'>\n",
            "Shape: (2, 2)\n",
            "값:\n",
            "[[-4. -4.]\n",
            " [-4. -4.]]\n",
            " \n"
          ]
        }
      ],
      "source": [
        "# elementwise difference\n",
        "print_val(m1 - m2)\n",
        "print_val(np.subtract(m1, m2))"
      ]
    },
    {
      "cell_type": "code",
      "execution_count": null,
      "metadata": {
        "scrolled": true,
        "id": "M305MHM79bTF",
        "outputId": "b4f29f6b-539a-49a4-dece-3242f8aca3c7"
      },
      "outputs": [
        {
          "name": "stdout",
          "output_type": "stream",
          "text": [
            "Type: <type 'numpy.ndarray'>\n",
            "Shape: (2, 2)\n",
            "값:\n",
            "[[ 5. 12.]\n",
            " [21. 32.]]\n",
            " \n",
            "Type: <type 'numpy.ndarray'>\n",
            "Shape: (2, 2)\n",
            "값:\n",
            "[[ 5. 12.]\n",
            " [21. 32.]]\n",
            " \n"
          ]
        }
      ],
      "source": [
        "# elementwise product\n",
        "print_val(m1 * m2)\n",
        "print_val(np.multiply(m1, m2))"
      ]
    },
    {
      "cell_type": "code",
      "execution_count": null,
      "metadata": {
        "id": "OsOOhTk79bTF",
        "outputId": "1587380e-dc38-4efa-d73e-5ffc73d2a416"
      },
      "outputs": [
        {
          "name": "stdout",
          "output_type": "stream",
          "text": [
            "Type: <type 'numpy.ndarray'>\n",
            "Shape: (2, 2)\n",
            "값:\n",
            "[[0.2        0.33333333]\n",
            " [0.42857143 0.5       ]]\n",
            " \n",
            "Type: <type 'numpy.ndarray'>\n",
            "Shape: (2, 2)\n",
            "값:\n",
            "[[0.2        0.33333333]\n",
            " [0.42857143 0.5       ]]\n",
            " \n"
          ]
        }
      ],
      "source": [
        "# elementwise division\n",
        "print_val(m1 / m2)\n",
        "print_val(np.divide(m1, m2))"
      ]
    },
    {
      "cell_type": "code",
      "execution_count": null,
      "metadata": {
        "id": "r7Qm77--9bTF",
        "outputId": "b0d0349c-01fb-4a34-d6de-fe10dc8ee754"
      },
      "outputs": [
        {
          "name": "stdout",
          "output_type": "stream",
          "text": [
            "Type: <type 'numpy.ndarray'>\n",
            "Shape: (2, 2)\n",
            "값:\n",
            "[[1.         1.41421356]\n",
            " [1.73205081 2.        ]]\n",
            " \n"
          ]
        }
      ],
      "source": [
        "# elementwise square root\n",
        "print_val(np.sqrt(m1))"
      ]
    },
    {
      "cell_type": "markdown",
      "metadata": {
        "id": "z6OZr-0p9bTG"
      },
      "source": [
        "### 행렬 연산"
      ]
    },
    {
      "cell_type": "code",
      "execution_count": null,
      "metadata": {
        "id": "Ab4KlxMC9bTG",
        "outputId": "019ebb0f-5651-45a5-d8e5-15171c611309"
      },
      "outputs": [
        {
          "name": "stdout",
          "output_type": "stream",
          "text": [
            "Type: <type 'numpy.ndarray'>\n",
            "Shape: (2, 2)\n",
            "값:\n",
            "[[1 2]\n",
            " [3 4]]\n",
            " \n",
            "Type: <type 'numpy.ndarray'>\n",
            "Shape: (2, 2)\n",
            "값:\n",
            "[[5 6]\n",
            " [7 8]]\n",
            " \n",
            "Type: <type 'numpy.ndarray'>\n",
            "Shape: (2,)\n",
            "값:\n",
            "[ 9 10]\n",
            " \n",
            "Type: <type 'numpy.ndarray'>\n",
            "Shape: (2,)\n",
            "값:\n",
            "[11 12]\n",
            " \n"
          ]
        }
      ],
      "source": [
        "m1 = np.array([[1,2], [3,4]])  # (2,2)\n",
        "m2 = np.array([[5,6], [7,8]])  # (2,2)\n",
        "v1 = np.array([9,10])  # (2,1)   # [[9,10]]  (1,2)\n",
        "v2 = np.array([11,12])  # (2,1)\n",
        "\n",
        "print_val(m1)\n",
        "print_val(m2)\n",
        "print_val(v1)\n",
        "print_val(v2)"
      ]
    },
    {
      "cell_type": "markdown",
      "metadata": {
        "id": "RapZzRW79bTG"
      },
      "source": [
        "### 벡터-벡터 연산"
      ]
    },
    {
      "cell_type": "code",
      "execution_count": null,
      "metadata": {
        "id": "8k7biJwq9bTG",
        "outputId": "568a2ff3-d97d-4c00-eb25-cce909d31ab1"
      },
      "outputs": [
        {
          "name": "stdout",
          "output_type": "stream",
          "text": [
            "Type: <type 'numpy.int64'>\n",
            "Shape: ()\n",
            "값:\n",
            "219\n",
            " \n",
            "Type: <type 'numpy.int64'>\n",
            "Shape: ()\n",
            "값:\n",
            "219\n",
            " \n"
          ]
        }
      ],
      "source": [
        "print_val(v1.dot(v2))\n",
        "print_val(np.dot(v1, v2))"
      ]
    },
    {
      "cell_type": "markdown",
      "metadata": {
        "id": "1FbH-hcl9bTG"
      },
      "source": [
        "### 벡터-행렬 연산"
      ]
    },
    {
      "cell_type": "code",
      "execution_count": null,
      "metadata": {
        "id": "4ERdMwKA9bTG",
        "outputId": "62949cef-d646-46a0-8be9-652c282ae4d0"
      },
      "outputs": [
        {
          "name": "stdout",
          "output_type": "stream",
          "text": [
            "Type: <type 'numpy.ndarray'>\n",
            "Shape: (2,)\n",
            "값:\n",
            "[29 67]\n",
            " \n",
            "Type: <type 'numpy.ndarray'>\n",
            "Shape: (2,)\n",
            "값:\n",
            "[29 67]\n",
            " \n"
          ]
        }
      ],
      "source": [
        "print_val(m1.dot(v1))  # (2,2) x (2,1) -> (2,1)\n",
        "print_val(np.dot(m1, v1))"
      ]
    },
    {
      "cell_type": "markdown",
      "metadata": {
        "id": "naQh7LKP9bTG"
      },
      "source": [
        "### 행렬-행렬 연산"
      ]
    },
    {
      "cell_type": "code",
      "execution_count": null,
      "metadata": {
        "id": "1nGuY2Qr9bTG",
        "outputId": "d24bda2a-bef4-4b53-f69a-5f54f7062a19"
      },
      "outputs": [
        {
          "name": "stdout",
          "output_type": "stream",
          "text": [
            "Type: <type 'numpy.ndarray'>\n",
            "Shape: (2, 2)\n",
            "값:\n",
            "[[19 22]\n",
            " [43 50]]\n",
            " \n",
            "Type: <type 'numpy.ndarray'>\n",
            "Shape: (2, 2)\n",
            "값:\n",
            "[[19 22]\n",
            " [43 50]]\n",
            " \n"
          ]
        }
      ],
      "source": [
        "print_val(m1.dot(m2))\n",
        "print_val(np.dot(m1, m2))"
      ]
    },
    {
      "cell_type": "markdown",
      "metadata": {
        "id": "dDIIjz0q9bTG"
      },
      "source": [
        "### 전치 행렬 (transpose)"
      ]
    },
    {
      "cell_type": "code",
      "execution_count": null,
      "metadata": {
        "id": "dXAIXd669bTG",
        "outputId": "f72607f4-4eb2-4a69-c151-d5160c078d53"
      },
      "outputs": [
        {
          "name": "stdout",
          "output_type": "stream",
          "text": [
            "Type: <type 'numpy.ndarray'>\n",
            "Shape: (2, 2)\n",
            "값:\n",
            "[[1 2]\n",
            " [3 4]]\n",
            " \n",
            "Type: <type 'numpy.ndarray'>\n",
            "Shape: (2, 2)\n",
            "값:\n",
            "[[1 3]\n",
            " [2 4]]\n",
            " \n"
          ]
        }
      ],
      "source": [
        "print_val(m1)\n",
        "print_val(m1.T)"
      ]
    },
    {
      "cell_type": "markdown",
      "metadata": {
        "id": "XBeeqeVF9bTG"
      },
      "source": [
        "### 합"
      ]
    },
    {
      "cell_type": "code",
      "execution_count": null,
      "metadata": {
        "id": "hXXwAOnx9bTH",
        "outputId": "edc08a75-728f-49d6-be06-85488ce5ad88"
      },
      "outputs": [
        {
          "name": "stdout",
          "output_type": "stream",
          "text": [
            "Type: <type 'numpy.int64'>\n",
            "Shape: ()\n",
            "값:\n",
            "10\n",
            " \n",
            "Type: <type 'numpy.ndarray'>\n",
            "Shape: (2,)\n",
            "값:\n",
            "[4 6]\n",
            " \n",
            "Type: <type 'numpy.ndarray'>\n",
            "Shape: (2,)\n",
            "값:\n",
            "[3 7]\n",
            " \n"
          ]
        }
      ],
      "source": [
        "print_val(np.sum(m1))  # 행렬의 모든 원소의 합\n",
        "print_val(np.sum(m1, axis=0))  # shape[0] (행) 을 압축시키자. (2,2) -> (2,)\n",
        "print_val(np.sum(m1, axis=1))  # shape[1] (열) 을 압축시키자. (2,2) -> (2,)"
      ]
    },
    {
      "cell_type": "markdown",
      "metadata": {
        "id": "Yh82UTl29bTH"
      },
      "source": [
        "### zeros-like"
      ]
    },
    {
      "cell_type": "code",
      "execution_count": null,
      "metadata": {
        "scrolled": true,
        "id": "DmIKXmSK9bTH",
        "outputId": "5014a107-fbb9-453a-9204-67233403cc08"
      },
      "outputs": [
        {
          "name": "stdout",
          "output_type": "stream",
          "text": [
            "Type: <type 'numpy.ndarray'>\n",
            "Shape: (4, 3)\n",
            "값:\n",
            "[[ 1  2  3]\n",
            " [ 4  5  6]\n",
            " [ 7  8  9]\n",
            " [10 11 12]]\n",
            " \n",
            "Type: <type 'numpy.ndarray'>\n",
            "Shape: (4, 3)\n",
            "값:\n",
            "[[0 0 0]\n",
            " [0 0 0]\n",
            " [0 0 0]\n",
            " [0 0 0]]\n",
            " \n"
          ]
        }
      ],
      "source": [
        "m1 = np.array([[1,2,3],\n",
        "              [4,5,6],\n",
        "              [7,8,9],\n",
        "              [10,11,12]])\n",
        "m2 = np.zeros_like(m1)  # m1과 같은 형태의 0으로 이루어진 np array\n",
        "print_val(m1)\n",
        "print_val(m2)"
      ]
    },
    {
      "cell_type": "markdown",
      "metadata": {
        "id": "GUPbNdAp9bTH"
      },
      "source": [
        "### Matplot library"
      ]
    },
    {
      "cell_type": "code",
      "execution_count": null,
      "metadata": {
        "id": "97tvwKox9bTH"
      },
      "outputs": [],
      "source": [
        "import matplotlib.pyplot as plt\n",
        "%matplotlib inline"
      ]
    },
    {
      "cell_type": "code",
      "execution_count": null,
      "metadata": {
        "id": "4pWkYihi9bTH",
        "outputId": "b147c331-9a2c-4dd8-dcb5-2813b090cac1"
      },
      "outputs": [
        {
          "data": {
            "text/plain": [
              "[<matplotlib.lines.Line2D at 0x7f202b9d7810>]"
            ]
          },
          "execution_count": 39,
          "metadata": {},
          "output_type": "execute_result"
        },
        {
          "data": {
            "image/png": "[encoded data removed]",
            "text/plain": [
              "<Figure size 432x288 with 1 Axes>"
            ]
          },
          "metadata": {
            "needs_background": "light"
          },
          "output_type": "display_data"
        }
      ],
      "source": [
        "# sin 커브\n",
        "x = np.arange(0, 10, 0.1)  # 0~10 까지 0.1 간격의 숫자 배열\n",
        "y = np.sin(x)\n",
        "\n",
        "plt.plot(x, y)"
      ]
    },
    {
      "cell_type": "markdown",
      "metadata": {
        "id": "8IlsxJ3V9bTH"
      },
      "source": [
        "### 한 번에 두 개 그래프 그리기"
      ]
    },
    {
      "cell_type": "code",
      "execution_count": null,
      "metadata": {
        "id": "zlFjy5d09bTH",
        "outputId": "d681a186-f609-47be-eeed-4ae5dbafabad"
      },
      "outputs": [
        {
          "data": {
            "image/png": "[encoded data removed]",
            "text/plain": [
              "<Figure size 432x288 with 1 Axes>"
            ]
          },
          "metadata": {
            "needs_background": "light"
          },
          "output_type": "display_data"
        }
      ],
      "source": [
        "y_sin = np.sin(x)\n",
        "y_cos = np.cos(x)\n",
        "\n",
        "plt.plot(x, y_sin)\n",
        "plt.plot(x, y_cos)\n",
        "plt.xlabel('x axis label')\n",
        "plt.ylabel('y axis label')\n",
        "plt.title('sin and cos')\n",
        "plt.legend(['sin', 'cos'])\n",
        "\n",
        "plt.show()"
      ]
    },
    {
      "cell_type": "markdown",
      "metadata": {
        "id": "ZJlJ2Mrm9bTH"
      },
      "source": [
        "### Subplot"
      ]
    },
    {
      "cell_type": "code",
      "execution_count": null,
      "metadata": {
        "id": "ZqBg75JI9bTI",
        "outputId": "99ebfe80-8776-4c29-d452-88ba605ae2be"
      },
      "outputs": [
        {
          "data": {
            "image/png": "[encoded data removed]",
            "text/plain": [
              "<Figure size 432x288 with 2 Axes>"
            ]
          },
          "metadata": {
            "needs_background": "light"
          },
          "output_type": "display_data"
        }
      ],
      "source": [
        "plt.subplot(2, 1, 1)  # (2,1) 형태 플랏의 첫 번째 자리에 그리겠다\n",
        "plt.plot(x, y_sin)\n",
        "plt.title('sin')\n",
        "\n",
        "plt.subplot(2, 1, 2)\n",
        "plt.plot(x, y_cos)\n",
        "plt.title('cos')\n",
        "\n",
        "plt.show()"
      ]
    },
    {
      "cell_type": "markdown",
      "metadata": {
        "id": "NKNWr6ue9bTI"
      },
      "source": [
        "# 4. MNIST 데이터로드"
      ]
    },
    {
      "cell_type": "code",
      "execution_count": null,
      "metadata": {
        "id": "3vEbzkLn9bTI"
      },
      "outputs": [],
      "source": [
        "import torchvision.datasets as dset\n",
        "import torchvision.transforms as transforms\n",
        "from torch.utils.data import DataLoader\n",
        "from torch.autograd import Variable\n",
        "import matplotlib.pyplot as plt\n",
        "%matplotlib inline"
      ]
    },
    {
      "cell_type": "markdown",
      "metadata": {
        "id": "OYjZ1-B79bTI"
      },
      "source": [
        "### 0) MNIST 는 어떻게 생겼나?"
      ]
    },
    {
      "cell_type": "code",
      "execution_count": null,
      "metadata": {
        "scrolled": true,
        "id": "nNRTKGcR9bTI",
        "outputId": "97911a99-a995-4d19-cbc2-a120791a5f8a"
      },
      "outputs": [
        {
          "name": "stdout",
          "output_type": "stream",
          "text": [
            "torch.Size([1, 28, 28]) 5\n",
            "torch.Size([1, 28, 28]) 0\n",
            "60000\n",
            "mnist_train 길이: 60000\n",
            "5\n",
            "torch.Size([1, 28, 28])\n"
          ]
        },
        {
          "data": {
            "image/png": "[encoded data removed]",
            "text/plain": [
              "<Figure size 432x288 with 1 Axes>"
            ]
          },
          "metadata": {
            "needs_background": "light"
          },
          "output_type": "display_data"
        },
        {
          "data": {
            "image/png": "[encoded data removed]",
            "text/plain": [
              "<Figure size 432x288 with 1 Axes>"
            ]
          },
          "metadata": {
            "needs_background": "light"
          },
          "output_type": "display_data"
        },
        {
          "data": {
            "image/png": "[encoded data removed]",
            "text/plain": [
              "<Figure size 432x288 with 1 Axes>"
            ]
          },
          "metadata": {
            "needs_background": "light"
          },
          "output_type": "display_data"
        }
      ],
      "source": [
        "# 1. MNIST 로드\n",
        "mnist_train=dset.MNIST(\"\", train=True,transform=transforms.ToTensor(),   #train 용으로 쓰겠다.\n",
        "                      target_transform=None, download=True) \n",
        "\n",
        "# 2. 그려보기\n",
        "# MNIST data 하나 형태 출력\n",
        "image, label = mnist_train.__getitem__(0)\n",
        "print image.size(), label\n",
        "\n",
        "image, label = mnist_train[1]\n",
        "print image.size(), label\n",
        "\n",
        "print mnist_train.__len__()\n",
        "print \"mnist_train 길이:\", len(mnist_train)\n",
        "\n",
        "# 그리기\n",
        "print mnist_train[0][1]  # label\n",
        "print mnist_train[0][0].size()  # image\n",
        "\n",
        "for i in range(3):\n",
        "    img = mnist_train[i][0].numpy()  # image 타입을 numpy 로 변환 (1,28,28)\n",
        "    #print \"label:\", mnist_train[i][1]\n",
        "    plt.title(\"label: %d\" %mnist_train[i][1] )\n",
        "    plt.imshow(img[0], cmap='gray')\n",
        "    plt.show()"
      ]
    },
    {
      "cell_type": "markdown",
      "metadata": {
        "id": "zCMpQFOM9bTI"
      },
      "source": [
        "### 1) MNIST train, test dataset 가져오기"
      ]
    },
    {
      "cell_type": "code",
      "execution_count": null,
      "metadata": {
        "id": "zE1_eoxl9bTI"
      },
      "outputs": [],
      "source": [
        "# \"\": 현재 폴더에 MNIST 있음\n",
        "mnist_train=dset.MNIST(\"\", train=True,transform=transforms.ToTensor(),   #train 용으로 쓰겠다.\n",
        "                      target_transform=None, download=True) \n",
        "mnist_test=dset.MNIST(\"\", train=False,transform=transforms.ToTensor(),   #test 용으로 쓰겠다.\n",
        "                      target_transform=None, download=True) "
      ]
    },
    {
      "cell_type": "markdown",
      "metadata": {
        "id": "Po6o6kS69bTI"
      },
      "source": [
        "### 2) 대략적인 데이터 형태"
      ]
    },
    {
      "cell_type": "code",
      "execution_count": null,
      "metadata": {
        "id": "rffN5mYd9bTI",
        "outputId": "5764b744-1bda-41f7-e391-864623e41fd3"
      },
      "outputs": [
        {
          "name": "stdout",
          "output_type": "stream",
          "text": [
            "mnist_train 길이: 60000\n",
            "mnist_test 길이: 10000\n",
            "image data 형태: torch.Size([1, 28, 28])\n",
            "label:  5\n"
          ]
        },
        {
          "data": {
            "image/png": "[encoded data removed]",
            "text/plain": [
              "<Figure size 432x288 with 1 Axes>"
            ]
          },
          "metadata": {
            "needs_background": "light"
          },
          "output_type": "display_data"
        }
      ],
      "source": [
        "print \"mnist_train 길이:\", len(mnist_train)\n",
        "print \"mnist_test 길이:\", len(mnist_test)\n",
        "\n",
        "# 데이터 하나 형태\n",
        "image, label = mnist_train.__getitem__(0)  # 0번째 데이터\n",
        "print \"image data 형태:\", image.size()\n",
        "print \"label: \", label\n",
        "\n",
        "# 그리기\n",
        "img = image.numpy()  # image 타입을 numpy 로 변환 (1,28,28)\n",
        "plt.title(\"label: %d\" %label )\n",
        "plt.imshow(img[0], cmap='gray')\n",
        "plt.show()"
      ]
    },
    {
      "cell_type": "markdown",
      "metadata": {
        "id": "jFTa5QEV9bTI"
      },
      "source": [
        "### 3) 데이터 로드함수\n",
        "학습시킬 때 batch_size 단위로 끊어서 로드하기 위함"
      ]
    },
    {
      "cell_type": "code",
      "execution_count": null,
      "metadata": {
        "id": "36NmY-Q49bTI"
      },
      "outputs": [],
      "source": [
        "batch_size = 16"
      ]
    },
    {
      "cell_type": "code",
      "execution_count": null,
      "metadata": {
        "id": "JKfFvldM9bTJ"
      },
      "outputs": [],
      "source": [
        "train_loader = torch.utils.data.DataLoader(list(mnist_train)[:batch_size*100], batch_size=batch_size,    \n",
        "                                           # mnist_train 를 트레인 시키자.\n",
        "                                          shuffle=True, num_workers=2,  # dataloader 에 저장할 때 thred 개수(?)\n",
        "                                          drop_last=True)  # batch_size 만큼 나눌 때 나머지는 버려라\n",
        "test_loader = torch.utils.data.DataLoader((mnist_test), batch_size=batch_size,    \n",
        "                                          shuffle=False, num_workers=2, \n",
        "                                          drop_last=True) "
      ]
    },
    {
      "cell_type": "markdown",
      "metadata": {
        "id": "tkrRZwG99bTJ"
      },
      "source": [
        "### 4) 데이터 로드함수 이해하기"
      ]
    },
    {
      "cell_type": "code",
      "execution_count": null,
      "metadata": {
        "scrolled": true,
        "id": "AtOd6QDN9bTJ",
        "outputId": "b4b4623b-b5ac-4316-a2bb-81818ad99a38"
      },
      "outputs": [
        {
          "name": "stdout",
          "output_type": "stream",
          "text": [
            "[0]\n",
            "한 번에 로드되는 데이터 크기: 16\n",
            "torch.Size([16, 28, 28])\n",
            "torch.Size([16])\n"
          ]
        },
        {
          "data": {
            "image/png": "[encoded data removed]",
            "text/plain": [
              "<Figure size 432x288 with 3 Axes>"
            ]
          },
          "metadata": {
            "needs_background": "light"
          },
          "output_type": "display_data"
        },
        {
          "name": "stdout",
          "output_type": "stream",
          "text": [
            "[1]\n",
            "한 번에 로드되는 데이터 크기: 16\n",
            "torch.Size([16, 28, 28])\n",
            "torch.Size([16])\n"
          ]
        },
        {
          "data": {
            "image/png": "[encoded data removed]",
            "text/plain": [
              "<Figure size 432x288 with 3 Axes>"
            ]
          },
          "metadata": {
            "needs_background": "light"
          },
          "output_type": "display_data"
        },
        {
          "name": "stdout",
          "output_type": "stream",
          "text": [
            "[2]\n",
            "한 번에 로드되는 데이터 크기: 16\n",
            "torch.Size([16, 28, 28])\n",
            "torch.Size([16])\n"
          ]
        },
        {
          "data": {
            "image/png": "[encoded data removed]",
            "text/plain": [
              "<Figure size 432x288 with 3 Axes>"
            ]
          },
          "metadata": {
            "needs_background": "light"
          },
          "output_type": "display_data"
        },
        {
          "name": "stdout",
          "output_type": "stream",
          "text": [
            "[3]\n",
            "한 번에 로드되는 데이터 크기: 16\n",
            "torch.Size([16, 28, 28])\n",
            "torch.Size([16])\n"
          ]
        },
        {
          "data": {
            "image/png": "[encoded data removed]",
            "text/plain": [
              "<Figure size 432x288 with 3 Axes>"
            ]
          },
          "metadata": {
            "needs_background": "light"
          },
          "output_type": "display_data"
        },
        {
          "name": "stdout",
          "output_type": "stream",
          "text": [
            "[4]\n",
            "한 번에 로드되는 데이터 크기: 16\n",
            "torch.Size([16, 28, 28])\n",
            "torch.Size([16])\n"
          ]
        },
        {
          "data": {
            "image/png": "[encoded data removed]",
            "text/plain": [
              "<Figure size 432x288 with 3 Axes>"
            ]
          },
          "metadata": {
            "needs_background": "light"
          },
          "output_type": "display_data"
        },
        {
          "name": "stdout",
          "output_type": "stream",
          "text": [
            "[5]\n",
            "한 번에 로드되는 데이터 크기: 16\n",
            "torch.Size([16, 28, 28])\n",
            "torch.Size([16])\n"
          ]
        },
        {
          "data": {
            "image/png": "[encoded data removed]",
            "text/plain": [
              "<Figure size 432x288 with 3 Axes>"
            ]
          },
          "metadata": {
            "needs_background": "light"
          },
          "output_type": "display_data"
        }
      ],
      "source": [
        "n = 3  # 샘플로 그려볼 데이터 개수\n",
        "for i, [imgs, labels] in enumerate(test_loader):  # batch_size 만큼\n",
        "    if i>5:\n",
        "        break\n",
        "        \n",
        "    print \"[%d]\" %i\n",
        "    print \"한 번에 로드되는 데이터 크기:\", len(imgs)\n",
        "    \n",
        "    # GPU 에 로드되기 위함. 만약 CPU로 설정되어 있다면 자동으로(?) CPU로 로드됨\n",
        "    x = Variable(imgs)#.cuda()     # (batch_size, 1, 28, 28)\n",
        "    x = x.reshape((x.shape[0], x.shape[2], x.shape[3]))  # (batch_size, 1, 28, 28) -> (batch_size, 28, 28)\n",
        "    y_ = Variable(labels)#.cuda()  # (batch_size)\n",
        "    \n",
        "    print x.shape\n",
        "    print y_.shape\n",
        "    \n",
        "    # 그리기\n",
        "    for j in range(n):\n",
        "        img = imgs[j].numpy()  # image 타입을 numpy 로 변환 (1,28,28)\n",
        "        img = img.reshape((img.shape[1], img.shape[2]))  # (1,28,28) -> (28,28)\n",
        "        #print img.shape\n",
        "        \n",
        "        plt.subplot(1, n, j+1)  # (1,3) 형태 플랏의 j 번째 자리에 그리겠다\n",
        "        plt.imshow(img, cmap='gray')\n",
        "        plt.title(\"label: %d\" %labels[j] )        \n",
        "    plt.show()"
      ]
    },
    {
      "cell_type": "markdown",
      "metadata": {
        "id": "qnxIe9BL9bTJ"
      },
      "source": [
        "# 3. 파이토치 기초"
      ]
    },
    {
      "cell_type": "code",
      "execution_count": null,
      "metadata": {
        "id": "bw7-5c2s9bTJ"
      },
      "outputs": [],
      "source": [
        "import torch"
      ]
    },
    {
      "cell_type": "code",
      "execution_count": null,
      "metadata": {
        "id": "YogElksO9bTJ",
        "outputId": "107f421d-a8c5-4022-da3c-604909f4088c"
      },
      "outputs": [
        {
          "name": "stdout",
          "output_type": "stream",
          "text": [
            "Type: <class 'torch.Tensor'>\n",
            "Shape: torch.Size([2, 3, 2])\n",
            "값:\n",
            "tensor([[[0.2631, 0.7858],\n",
            "         [0.2050, 0.8946],\n",
            "         [0.9223, 0.6038]],\n",
            "\n",
            "        [[0.9886, 0.4532],\n",
            "         [0.9419, 0.4712],\n",
            "         [0.3295, 0.3157]]])\n",
            " \n",
            "Type: <class 'torch.Tensor'>\n",
            "Shape: torch.Size([2, 3])\n",
            "값:\n",
            "tensor([[ 0.6841,  0.3819, -0.8850],\n",
            "        [ 0.4542,  0.3165,  0.3829]])\n",
            " \n"
          ]
        }
      ],
      "source": [
        "x = torch.rand(2,3,2)  # uniform: 0~1 사이 모든 값들이 나올 확률이 같음\n",
        "print_val(x)\n",
        "\n",
        "x = torch.randn(2,3)  # Gaussian: 0을 평균으로 하는 가우시안 분포를 따르는 랜덤값\n",
        "print_val(x)"
      ]
    },
    {
      "cell_type": "code",
      "execution_count": null,
      "metadata": {
        "id": "aNy4xwT_9bTK",
        "outputId": "0e1e246f-ce9b-4fc2-994a-7b4ef28bb7ba"
      },
      "outputs": [
        {
          "name": "stdout",
          "output_type": "stream",
          "text": [
            "Type: <class 'torch.Tensor'>\n",
            "Shape: torch.Size([4])\n",
            "값:\n",
            "tensor([2, 1, 0, 3])\n",
            " \n"
          ]
        }
      ],
      "source": [
        "x = torch.randperm(4)  # 0 ~ n-1 까지 값을 원소로 갖는 배열 -> 랜덤 배열\n",
        "print_val(x)"
      ]
    },
    {
      "cell_type": "code",
      "execution_count": null,
      "metadata": {
        "id": "GMOyG7Gd9bTK",
        "outputId": "9f1cf3a7-cb3c-410f-e652-949da808b2fc"
      },
      "outputs": [
        {
          "name": "stdout",
          "output_type": "stream",
          "text": [
            "Type: <class 'torch.Tensor'>\n",
            "Shape: torch.Size([6])\n",
            "값:\n",
            "tensor([0.0000, 0.5000, 1.0000, 1.5000, 2.0000, 2.5000])\n",
            " \n"
          ]
        }
      ],
      "source": [
        "# [start, end) 구간을 step 단위로 나눠서 배열로 생성\n",
        "x = torch.arange(0, 3, step=0.5)  \n",
        "print_val(x)"
      ]
    },
    {
      "cell_type": "code",
      "execution_count": null,
      "metadata": {
        "id": "4KWzHFp_9bTK",
        "outputId": "e4f6a94e-5763-4aba-942c-342c16d7e557"
      },
      "outputs": [
        {
          "name": "stdout",
          "output_type": "stream",
          "text": [
            "Type: <class 'torch.Tensor'>\n",
            "Shape: torch.Size([3, 4])\n",
            "값:\n",
            "tensor([[1., 1., 1., 1.],\n",
            "        [1., 1., 1., 1.],\n",
            "        [1., 1., 1., 1.]])\n",
            " \n",
            "Type: <class 'torch.Tensor'>\n",
            "Shape: torch.Size([3, 4])\n",
            "값:\n",
            "tensor([[0., 0., 0., 0.],\n",
            "        [0., 0., 0., 0.],\n",
            "        [0., 0., 0., 0.]])\n",
            " \n"
          ]
        }
      ],
      "source": [
        "print_val( torch.ones(3,4) )\n",
        "print_val( torch.zeros(3,4) )"
      ]
    },
    {
      "cell_type": "code",
      "execution_count": null,
      "metadata": {
        "id": "u7LgyKmO9bTL",
        "outputId": "410d62fa-cbae-434d-b166-d1c3d76cc0ca"
      },
      "outputs": [
        {
          "name": "stdout",
          "output_type": "stream",
          "text": [
            "Type: <class 'torch.Tensor'>\n",
            "Shape: torch.Size([2, 4])\n",
            "값:\n",
            "tensor([[1.2994e+14, 4.5740e-41, 1.2994e+14, 4.5740e-41],\n",
            "        [0.0000e+00, 0.0000e+00, 0.0000e+00, 0.0000e+00]])\n",
            " \n"
          ]
        }
      ],
      "source": [
        "print_val( torch.Tensor(2,4) )"
      ]
    },
    {
      "cell_type": "code",
      "execution_count": null,
      "metadata": {
        "id": "6nDgdLc79bTL",
        "outputId": "bcb5fa28-3d34-4181-b623-4bfb49c3d00d"
      },
      "outputs": [
        {
          "name": "stdout",
          "output_type": "stream",
          "text": [
            "Type: <class 'torch.Tensor'>\n",
            "Shape: torch.Size([2])\n",
            "값:\n",
            "tensor([2., 3.])\n",
            " \n",
            "Type: <class 'torch.Tensor'>\n",
            "Shape: torch.Size([2, 2])\n",
            "값:\n",
            "tensor([[2., 3.],\n",
            "        [3., 4.]])\n",
            " \n"
          ]
        }
      ],
      "source": [
        "print_val( torch.Tensor([2,3]) )\n",
        "\n",
        "print_val( torch.Tensor([[2,3], [3,4]]) )"
      ]
    },
    {
      "cell_type": "code",
      "execution_count": null,
      "metadata": {
        "id": "7_UtawOu9bTL",
        "outputId": "6ea02743-2d54-4e00-e7dc-b2bf2aff44a3"
      },
      "outputs": [
        {
          "name": "stdout",
          "output_type": "stream",
          "text": [
            "Type: <class 'torch.Tensor'>\n",
            "Shape: torch.Size([2, 3])\n",
            "값:\n",
            "tensor([[6.7297e-37, 2.1990e-40, 2.3511e-38],\n",
            "        [3.8688e+25, 9.2754e-39, 4.9720e-40]])\n",
            " \n",
            "Type: <class 'torch.Tensor'>\n",
            "Shape: torch.Size([2, 3])\n",
            "값:\n",
            "tensor([[          0,           0,           0],\n",
            "        [-2147483648,           0,           0]], dtype=torch.int32)\n",
            " \n"
          ]
        }
      ],
      "source": [
        "# 텐서 타입 변환\n",
        "x = torch.FloatTensor(2,3)\n",
        "print_val(x)\n",
        "\n",
        "x = x.type_as(torch.IntTensor())\n",
        "print_val(x)"
      ]
    },
    {
      "cell_type": "code",
      "execution_count": null,
      "metadata": {
        "id": "mxFrJOQV9bTL",
        "outputId": "b5306a39-b73d-4f79-99a1-19b80eabb633"
      },
      "outputs": [
        {
          "data": {
            "text/plain": [
              "torch.Size([3, 4, 5])"
            ]
          },
          "execution_count": 23,
          "metadata": {},
          "output_type": "execute_result"
        }
      ],
      "source": [
        "# 텐서 크기 반환\n",
        "torch.FloatTensor(3,4,5).size()"
      ]
    },
    {
      "cell_type": "code",
      "execution_count": null,
      "metadata": {
        "id": "bNWC6Krp9bTL",
        "outputId": "9a317f0b-7cfa-459e-ec07-531c6ae89d5b"
      },
      "outputs": [
        {
          "name": "stdout",
          "output_type": "stream",
          "text": [
            "Type: <type 'numpy.ndarray'>\n",
            "Shape: (2, 3)\n",
            "값:\n",
            "[[140193482005464 140193482005464 140193431408288]\n",
            " [        9392928 140192827454528              65]]\n",
            " \n",
            "Type: <class 'torch.Tensor'>\n",
            "Shape: torch.Size([2, 3])\n",
            "값:\n",
            "tensor([[140193482005464, 140193482005464, 140193431408288],\n",
            "        [        9392928, 140192827454528,              65]])\n",
            " \n"
          ]
        }
      ],
      "source": [
        "# numpy array -> torch tensor\n",
        "import numpy as np\n",
        "np_x = np.ndarray((2,3), dtype=int)\n",
        "print_val(np_x)\n",
        "\n",
        "x = torch.from_numpy(np_x)\n",
        "print_val(x)"
      ]
    },
    {
      "cell_type": "code",
      "execution_count": null,
      "metadata": {
        "id": "2G32KU509bTL"
      },
      "outputs": [],
      "source": [
        "x"
      ]
    },
    {
      "cell_type": "code",
      "execution_count": null,
      "metadata": {
        "id": "TQcSY84N9bTL"
      },
      "outputs": [],
      "source": []
    },
    {
      "cell_type": "code",
      "execution_count": null,
      "metadata": {
        "id": "3UIv95Bb9bTL"
      },
      "outputs": [],
      "source": []
    }
  ],
  "metadata": {
    "kernelspec": {
      "display_name": "Python 2",
      "language": "python",
      "name": "python2"
    },
    "language_info": {
      "codemirror_mode": {
        "name": "ipython",
        "version": 2
      },
      "file_extension": ".py",
      "mimetype": "text/x-python",
      "name": "python",
      "nbconvert_exporter": "python",
      "pygments_lexer": "ipython2",
      "version": "2.7.12"
    },
    "colab": {
      "provenance": [],
      "include_colab_link": true
    }
  },
  "nbformat": 4,
  "nbformat_minor": 0
}